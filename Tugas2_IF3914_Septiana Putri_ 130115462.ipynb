{
 "cells": [
  {
   "cell_type": "markdown",
   "metadata": {},
   "source": [
    "# <center>Tugas 2: K-Means Clustering </center>"
   ]
  },
  {
   "cell_type": "markdown",
   "metadata": {},
   "source": [
    "Nama : Septiana Putri \n",
    "<br>\n",
    "Nim : 1301154462 \n",
    "<br>\n",
    "Kelas : IF-39-14"
   ]
  },
  {
   "cell_type": "markdown",
   "metadata": {},
   "source": [
    "### Menginputkan library yang dibutuhkan"
   ]
  },
  {
   "cell_type": "markdown",
   "metadata": {},
   "source": [
    "a. Numpy = package untuk scientific computing\n",
    "<br>\n",
    "b. Pandas = data analis toolkit untuk membaca data dengan jenis apapun\n",
    "<br>\n",
    "c. Plotly = untuk visualisasi"
   ]
  },
  {
   "cell_type": "code",
   "execution_count": 1,
   "metadata": {},
   "outputs": [],
   "source": [
    "import numpy\n",
    "import numpy as num\n",
    "import pandas\n",
    "import pandas as pd\n",
    "from matplotlib import pyplot as plt\n",
    "from copy import deepcopy"
   ]
  },
  {
   "cell_type": "markdown",
   "metadata": {},
   "source": [
    "### Meload Data Train"
   ]
  },
  {
   "cell_type": "code",
   "execution_count": 2,
   "metadata": {},
   "outputs": [],
   "source": [
    "dtrain = pd.read_csv(\"TrainsetTugas2.txt\",delimiter=\"\\t\")"
   ]
  },
  {
   "cell_type": "markdown",
   "metadata": {},
   "source": [
    "### Memisahkan data train menjadi dua value"
   ]
  },
  {
   "cell_type": "code",
   "execution_count": 3,
   "metadata": {},
   "outputs": [],
   "source": [
    "a = dtrain[\"v1\"].values\n",
    "b = dtrain[\"v2\"].values"
   ]
  },
  {
   "cell_type": "markdown",
   "metadata": {},
   "source": [
    "#### Visualisasi Data Train"
   ]
  },
  {
   "cell_type": "markdown",
   "metadata": {},
   "source": [
    "Melakukan visualisasi data train kedalam scatter dengan keseluruhan menggunakan warna hijau yaitu masih dalam bagian yang sama."
   ]
  },
  {
   "cell_type": "code",
   "execution_count": 4,
   "metadata": {
    "scrolled": true
   },
   "outputs": [
    {
     "data": {
      "text/plain": [
       "<matplotlib.collections.PathCollection at 0xb74ed30>"
      ]
     },
     "execution_count": 4,
     "metadata": {},
     "output_type": "execute_result"
    },
    {
     "data": {
      "image/png": "[encoded data removed]",
      "text/plain": [
       "<matplotlib.figure.Figure at 0xa4c37d0>"
      ]
     },
     "metadata": {},
     "output_type": "display_data"
    }
   ],
   "source": [
    "dt1 = num.array(list(zip(a,b)))\n",
    "plt.scatter(a,b,c=\"green\",s=6)"
   ]
  },
  {
   "cell_type": "markdown",
   "metadata": {},
   "source": [
    "### Clustering Data Train "
   ]
  },
  {
   "cell_type": "markdown",
   "metadata": {},
   "source": [
    "Dengan menggunakan fungsi untuk menghitung Euclidean Distance atau menghitung jarak dari data ke centroid dan menghitung jarak antar centroid"
   ]
  },
  {
   "cell_type": "code",
   "execution_count": 5,
   "metadata": {},
   "outputs": [],
   "source": [
    "def hitdistance(x,y,a=1):\n",
    "    return num.linalg.norm(x-y,axis=a)"
   ]
  },
  {
   "cell_type": "markdown",
   "metadata": {},
   "source": [
    "### Inisiasi Centroid"
   ]
  },
  {
   "cell_type": "markdown",
   "metadata": {},
   "source": [
    "menentukan nilai clust sebagai banyaknya cluster yang akan dihitung nilai SSE\n",
    "dari cluster tersebut. Kemudian tentukan nilai random untuk nilai centroid pada sumbu x dan sumbu y.didapatkan nilai centroid yang merupakan initial centroid dari px dan py."
   ]
  },
  {
   "cell_type": "code",
   "execution_count": 6,
   "metadata": {},
   "outputs": [
    {
     "name": "stdout",
     "output_type": "stream",
     "text": [
      "[[21  2]\n",
      " [16 17]\n",
      " [ 7  0]\n",
      " [18 22]\n",
      " [21  9]]\n"
     ]
    }
   ],
   "source": [
    "clust = 5\n",
    "\n",
    "ps = dt1.copy()\n",
    "px = num.random.randint(0,num.max(ps)-10,size=clust)\n",
    "py = num.random.randint(0,num.max(ps)-10,size=clust)\n",
    "pxy = num.array(list(zip(px,py)))\n",
    "print(pxy)"
   ]
  },
  {
   "cell_type": "markdown",
   "metadata": {},
   "source": [
    "### Update Nilai Centroid"
   ]
  },
  {
   "cell_type": "markdown",
   "metadata": {},
   "source": [
    "Buat variabel penampung centroid belum di update yang akan digunakan untuk menghitung jarak antara centroid lama dengan centroid yang sudah diupdate. Buat variabel untuk menampung jenis cluster dari tiap data, sehingga data dengan\n",
    "indeks ke i setelah proses perhitungan jarak akan memiliki nilai clusternya dan kemudian di tampung di suatu variabel. lakukan perulangan hingga centroid lama dan baru tidak berubah lagi dan menampilkan nilai centroid baru tersebut"
   ]
  },
  {
   "cell_type": "code",
   "execution_count": 7,
   "metadata": {},
   "outputs": [
    {
     "name": "stdout",
     "output_type": "stream",
     "text": [
      "[[18  7]\n",
      " [ 9 22]\n",
      " [ 9  7]\n",
      " [29 22]\n",
      " [32  8]]\n"
     ]
    }
   ],
   "source": [
    "s_old  = 0\n",
    "k = num.zeros(len(dt1))\n",
    "\n",
    "while True:\n",
    "    for i in range (len(dt1)):\n",
    "        dnew = hitdistance(dt1[i],pxy)\n",
    "        win = num.argmin(dnew)\n",
    "        k[i]= win\n",
    "    s_old = deepcopy(pxy)\n",
    "    for i in range (clust):\n",
    "        node = [dt1[j]for j in range (len(dt1)) if k[j]==i]\n",
    "        pxy[i] = num.mean(node,axis=0)\n",
    "    newjarak = hitdistance(pxy,s_old)\n",
    "    if newjarak.all() == 0:\n",
    "        break\n",
    "print(pxy)"
   ]
  },
  {
   "cell_type": "code",
   "execution_count": 8,
   "metadata": {},
   "outputs": [
    {
     "name": "stdout",
     "output_type": "stream",
     "text": [
      "0 3.0\n",
      "1 3.0\n",
      "2 3.0\n",
      "3 3.0\n",
      "4 1.0\n",
      "5 3.0\n",
      "6 3.0\n",
      "7 3.0\n",
      "8 3.0\n",
      "9 3.0\n",
      "10 3.0\n",
      "11 3.0\n",
      "12 3.0\n",
      "13 3.0\n",
      "14 3.0\n",
      "15 1.0\n",
      "16 3.0\n",
      "17 3.0\n",
      "18 3.0\n",
      "19 3.0\n",
      "20 3.0\n",
      "21 3.0\n",
      "22 3.0\n",
      "23 3.0\n",
      "24 3.0\n",
      "25 3.0\n",
      "26 3.0\n",
      "27 3.0\n",
      "28 3.0\n",
      "29 3.0\n",
      "30 3.0\n",
      "31 3.0\n",
      "32 3.0\n",
      "33 3.0\n",
      "34 3.0\n",
      "35 3.0\n",
      "36 3.0\n",
      "37 3.0\n",
      "38 3.0\n",
      "39 1.0\n",
      "40 1.0\n",
      "41 1.0\n",
      "42 1.0\n",
      "43 1.0\n",
      "44 1.0\n",
      "45 1.0\n",
      "46 1.0\n",
      "47 1.0\n",
      "48 1.0\n",
      "49 1.0\n",
      "50 1.0\n",
      "51 1.0\n",
      "52 1.0\n",
      "53 1.0\n",
      "54 1.0\n",
      "55 1.0\n",
      "56 1.0\n",
      "57 1.0\n",
      "58 1.0\n",
      "59 1.0\n",
      "60 1.0\n",
      "61 1.0\n",
      "62 1.0\n",
      "63 1.0\n",
      "64 1.0\n",
      "65 1.0\n",
      "66 1.0\n",
      "67 1.0\n",
      "68 1.0\n",
      "69 1.0\n",
      "70 1.0\n",
      "71 1.0\n",
      "72 1.0\n",
      "73 1.0\n",
      "74 1.0\n",
      "75 1.0\n",
      "76 1.0\n",
      "77 1.0\n",
      "78 1.0\n",
      "79 1.0\n",
      "80 1.0\n",
      "81 1.0\n",
      "82 1.0\n",
      "83 1.0\n",
      "84 1.0\n",
      "85 1.0\n",
      "86 1.0\n",
      "87 1.0\n",
      "88 1.0\n",
      "89 1.0\n",
      "90 1.0\n",
      "91 1.0\n",
      "92 1.0\n",
      "93 1.0\n",
      "94 1.0\n",
      "95 1.0\n",
      "96 1.0\n",
      "97 1.0\n",
      "98 1.0\n",
      "99 1.0\n",
      "100 1.0\n",
      "101 1.0\n",
      "102 1.0\n",
      "103 1.0\n",
      "104 1.0\n",
      "105 1.0\n",
      "106 1.0\n",
      "107 1.0\n",
      "108 1.0\n",
      "109 1.0\n",
      "110 1.0\n",
      "111 1.0\n",
      "112 1.0\n",
      "113 1.0\n",
      "114 1.0\n",
      "115 1.0\n",
      "116 1.0\n",
      "117 1.0\n",
      "118 1.0\n",
      "119 1.0\n",
      "120 1.0\n",
      "121 1.0\n",
      "122 1.0\n",
      "123 1.0\n",
      "124 1.0\n",
      "125 1.0\n",
      "126 1.0\n",
      "127 1.0\n",
      "128 1.0\n",
      "129 1.0\n",
      "130 1.0\n",
      "131 1.0\n",
      "132 1.0\n",
      "133 1.0\n",
      "134 1.0\n",
      "135 1.0\n",
      "136 1.0\n",
      "137 1.0\n",
      "138 1.0\n",
      "139 1.0\n",
      "140 1.0\n",
      "141 1.0\n",
      "142 1.0\n",
      "143 1.0\n",
      "144 1.0\n",
      "145 1.0\n",
      "146 1.0\n",
      "147 1.0\n",
      "148 1.0\n",
      "149 1.0\n",
      "150 1.0\n",
      "151 1.0\n",
      "152 1.0\n",
      "153 1.0\n",
      "154 1.0\n",
      "155 1.0\n",
      "156 1.0\n",
      "157 1.0\n",
      "158 1.0\n",
      "159 1.0\n",
      "160 1.0\n",
      "161 1.0\n",
      "162 1.0\n",
      "163 1.0\n",
      "164 1.0\n",
      "165 1.0\n",
      "166 1.0\n",
      "167 1.0\n",
      "168 1.0\n",
      "169 1.0\n",
      "170 1.0\n",
      "171 1.0\n",
      "172 1.0\n",
      "173 1.0\n",
      "174 1.0\n",
      "175 1.0\n",
      "176 1.0\n",
      "177 1.0\n",
      "178 1.0\n",
      "179 1.0\n",
      "180 1.0\n",
      "181 1.0\n",
      "182 1.0\n",
      "183 1.0\n",
      "184 1.0\n",
      "185 1.0\n",
      "186 4.0\n",
      "187 4.0\n",
      "188 4.0\n",
      "189 4.0\n",
      "190 4.0\n",
      "191 4.0\n",
      "192 4.0\n",
      "193 4.0\n",
      "194 4.0\n",
      "195 4.0\n",
      "196 4.0\n",
      "197 4.0\n",
      "198 4.0\n",
      "199 4.0\n",
      "200 4.0\n",
      "201 4.0\n",
      "202 4.0\n",
      "203 4.0\n",
      "204 4.0\n",
      "205 4.0\n",
      "206 4.0\n",
      "207 4.0\n",
      "208 4.0\n",
      "209 4.0\n",
      "210 4.0\n",
      "211 4.0\n",
      "212 4.0\n",
      "213 4.0\n",
      "214 4.0\n",
      "215 4.0\n",
      "216 4.0\n",
      "217 4.0\n",
      "218 4.0\n",
      "219 4.0\n",
      "220 4.0\n",
      "221 4.0\n",
      "222 4.0\n",
      "223 4.0\n",
      "224 4.0\n",
      "225 4.0\n",
      "226 4.0\n",
      "227 4.0\n",
      "228 4.0\n",
      "229 4.0\n",
      "230 4.0\n",
      "231 4.0\n",
      "232 4.0\n",
      "233 4.0\n",
      "234 4.0\n",
      "235 4.0\n",
      "236 4.0\n",
      "237 4.0\n",
      "238 4.0\n",
      "239 4.0\n",
      "240 4.0\n",
      "241 4.0\n",
      "242 4.0\n",
      "243 4.0\n",
      "244 4.0\n",
      "245 4.0\n",
      "246 4.0\n",
      "247 4.0\n",
      "248 4.0\n",
      "249 4.0\n",
      "250 4.0\n",
      "251 4.0\n",
      "252 4.0\n",
      "253 4.0\n",
      "254 4.0\n",
      "255 4.0\n",
      "256 4.0\n",
      "257 4.0\n",
      "258 4.0\n",
      "259 4.0\n",
      "260 4.0\n",
      "261 4.0\n",
      "262 4.0\n",
      "263 4.0\n",
      "264 4.0\n",
      "265 4.0\n",
      "266 4.0\n",
      "267 4.0\n",
      "268 4.0\n",
      "269 4.0\n",
      "270 4.0\n",
      "271 4.0\n",
      "272 4.0\n",
      "273 4.0\n",
      "274 4.0\n",
      "275 4.0\n",
      "276 4.0\n",
      "277 2.0\n",
      "278 2.0\n",
      "279 2.0\n",
      "280 2.0\n",
      "281 2.0\n",
      "282 2.0\n",
      "283 2.0\n",
      "284 2.0\n",
      "285 2.0\n",
      "286 0.0\n",
      "287 0.0\n",
      "288 0.0\n",
      "289 0.0\n",
      "290 0.0\n",
      "291 0.0\n",
      "292 0.0\n",
      "293 0.0\n",
      "294 0.0\n",
      "295 0.0\n",
      "296 0.0\n",
      "297 2.0\n",
      "298 2.0\n",
      "299 2.0\n",
      "300 2.0\n",
      "301 2.0\n",
      "302 2.0\n",
      "303 2.0\n",
      "304 2.0\n",
      "305 2.0\n",
      "306 2.0\n",
      "307 0.0\n",
      "308 2.0\n",
      "309 2.0\n",
      "310 2.0\n",
      "311 2.0\n",
      "312 2.0\n",
      "313 2.0\n",
      "314 2.0\n",
      "315 0.0\n",
      "316 0.0\n",
      "317 0.0\n",
      "318 0.0\n",
      "319 0.0\n",
      "320 0.0\n",
      "321 0.0\n",
      "322 0.0\n",
      "323 0.0\n",
      "324 0.0\n",
      "325 0.0\n",
      "326 0.0\n",
      "327 0.0\n",
      "328 0.0\n",
      "329 0.0\n",
      "330 0.0\n",
      "331 0.0\n",
      "332 2.0\n",
      "333 2.0\n",
      "334 2.0\n",
      "335 2.0\n",
      "336 2.0\n",
      "337 2.0\n",
      "338 2.0\n",
      "339 2.0\n",
      "340 0.0\n",
      "341 2.0\n",
      "342 2.0\n",
      "343 2.0\n",
      "344 2.0\n",
      "345 2.0\n",
      "346 2.0\n",
      "347 2.0\n",
      "348 2.0\n",
      "349 0.0\n",
      "350 0.0\n",
      "351 0.0\n",
      "352 0.0\n",
      "353 0.0\n",
      "354 0.0\n",
      "355 0.0\n",
      "356 0.0\n",
      "357 0.0\n",
      "358 0.0\n",
      "359 0.0\n",
      "360 0.0\n",
      "361 0.0\n",
      "362 0.0\n",
      "363 0.0\n",
      "364 0.0\n",
      "365 0.0\n",
      "366 0.0\n",
      "367 0.0\n",
      "368 0.0\n",
      "369 0.0\n",
      "370 0.0\n",
      "371 0.0\n",
      "372 0.0\n",
      "373 0.0\n",
      "374 0.0\n",
      "375 0.0\n",
      "376 0.0\n",
      "377 0.0\n",
      "378 0.0\n",
      "379 0.0\n",
      "380 0.0\n",
      "381 0.0\n",
      "382 0.0\n",
      "383 0.0\n",
      "384 0.0\n",
      "385 0.0\n",
      "386 0.0\n",
      "387 0.0\n",
      "388 0.0\n",
      "389 0.0\n",
      "390 0.0\n",
      "391 0.0\n",
      "392 0.0\n",
      "393 0.0\n",
      "394 0.0\n",
      "395 0.0\n",
      "396 0.0\n",
      "397 0.0\n",
      "398 0.0\n",
      "399 0.0\n",
      "400 0.0\n",
      "401 0.0\n",
      "402 0.0\n",
      "403 0.0\n",
      "404 0.0\n",
      "405 0.0\n",
      "406 0.0\n",
      "407 0.0\n",
      "408 0.0\n",
      "409 0.0\n",
      "410 0.0\n",
      "411 0.0\n",
      "412 0.0\n",
      "413 0.0\n",
      "414 0.0\n",
      "415 0.0\n",
      "416 0.0\n",
      "417 0.0\n",
      "418 0.0\n",
      "419 0.0\n",
      "420 0.0\n",
      "421 0.0\n",
      "422 0.0\n",
      "423 0.0\n",
      "424 0.0\n",
      "425 0.0\n",
      "426 0.0\n",
      "427 0.0\n",
      "428 0.0\n",
      "429 0.0\n",
      "430 0.0\n",
      "431 0.0\n",
      "432 0.0\n",
      "433 0.0\n",
      "434 0.0\n",
      "435 0.0\n",
      "436 0.0\n",
      "437 0.0\n",
      "438 0.0\n",
      "439 0.0\n",
      "440 0.0\n",
      "441 0.0\n",
      "442 0.0\n",
      "443 0.0\n",
      "444 0.0\n",
      "445 0.0\n",
      "446 0.0\n",
      "447 0.0\n",
      "448 0.0\n",
      "449 0.0\n",
      "450 0.0\n",
      "451 0.0\n",
      "452 0.0\n",
      "453 0.0\n",
      "454 0.0\n",
      "455 0.0\n",
      "456 0.0\n",
      "457 0.0\n",
      "458 0.0\n",
      "459 0.0\n",
      "460 0.0\n",
      "461 0.0\n",
      "462 0.0\n",
      "463 0.0\n",
      "464 0.0\n",
      "465 0.0\n",
      "466 0.0\n",
      "467 0.0\n",
      "468 0.0\n",
      "469 0.0\n",
      "470 0.0\n",
      "471 0.0\n",
      "472 0.0\n",
      "473 0.0\n",
      "474 0.0\n",
      "475 0.0\n",
      "476 0.0\n",
      "477 0.0\n",
      "478 0.0\n",
      "479 0.0\n",
      "480 0.0\n",
      "481 0.0\n",
      "482 0.0\n",
      "483 0.0\n",
      "484 0.0\n",
      "485 0.0\n",
      "486 0.0\n",
      "487 0.0\n",
      "488 0.0\n",
      "489 0.0\n",
      "490 0.0\n",
      "491 0.0\n",
      "492 0.0\n",
      "493 0.0\n",
      "494 0.0\n",
      "495 0.0\n",
      "496 0.0\n",
      "497 0.0\n",
      "498 0.0\n",
      "499 0.0\n",
      "500 0.0\n",
      "501 0.0\n",
      "502 0.0\n",
      "503 0.0\n",
      "504 0.0\n",
      "505 0.0\n",
      "506 0.0\n",
      "507 0.0\n",
      "508 0.0\n",
      "509 4.0\n",
      "510 0.0\n",
      "511 0.0\n",
      "512 0.0\n",
      "513 0.0\n",
      "514 0.0\n",
      "515 0.0\n",
      "516 4.0\n",
      "517 2.0\n",
      "518 2.0\n",
      "519 2.0\n",
      "520 2.0\n",
      "521 2.0\n",
      "522 2.0\n",
      "523 2.0\n",
      "524 2.0\n",
      "525 2.0\n",
      "526 2.0\n",
      "527 2.0\n",
      "528 2.0\n",
      "529 2.0\n",
      "530 2.0\n",
      "531 2.0\n",
      "532 2.0\n",
      "533 2.0\n",
      "534 2.0\n",
      "535 2.0\n",
      "536 2.0\n",
      "537 2.0\n",
      "538 2.0\n",
      "539 2.0\n",
      "540 2.0\n",
      "541 2.0\n",
      "542 2.0\n",
      "543 2.0\n",
      "544 2.0\n",
      "545 2.0\n",
      "546 2.0\n",
      "547 4.0\n",
      "548 4.0\n",
      "549 3.0\n",
      "550 3.0\n",
      "551 3.0\n",
      "552 3.0\n",
      "553 3.0\n",
      "554 3.0\n",
      "555 3.0\n",
      "556 3.0\n",
      "557 3.0\n",
      "558 3.0\n",
      "559 3.0\n",
      "560 3.0\n",
      "561 3.0\n",
      "562 3.0\n",
      "563 3.0\n",
      "564 3.0\n",
      "565 3.0\n",
      "566 3.0\n",
      "567 3.0\n",
      "568 3.0\n",
      "569 3.0\n",
      "570 3.0\n",
      "571 3.0\n",
      "572 3.0\n",
      "573 3.0\n",
      "574 3.0\n",
      "575 3.0\n",
      "576 3.0\n",
      "577 3.0\n",
      "578 3.0\n",
      "579 3.0\n",
      "580 3.0\n",
      "581 3.0\n",
      "582 3.0\n",
      "583 3.0\n",
      "584 3.0\n",
      "585 3.0\n",
      "586 3.0\n",
      "587 3.0\n",
      "588 3.0\n",
      "589 3.0\n",
      "590 3.0\n",
      "591 3.0\n",
      "592 3.0\n",
      "593 3.0\n",
      "594 3.0\n",
      "595 3.0\n",
      "596 3.0\n",
      "597 3.0\n",
      "598 3.0\n",
      "599 3.0\n",
      "600 3.0\n",
      "601 3.0\n",
      "602 3.0\n",
      "603 3.0\n",
      "604 3.0\n",
      "605 3.0\n",
      "606 3.0\n",
      "607 3.0\n",
      "608 3.0\n",
      "609 3.0\n",
      "610 3.0\n",
      "611 3.0\n",
      "612 3.0\n",
      "613 3.0\n",
      "614 3.0\n",
      "615 3.0\n",
      "616 3.0\n",
      "617 3.0\n",
      "618 3.0\n",
      "619 3.0\n",
      "620 3.0\n",
      "621 3.0\n",
      "622 3.0\n",
      "623 3.0\n",
      "624 3.0\n",
      "625 3.0\n",
      "626 3.0\n",
      "627 3.0\n",
      "628 3.0\n",
      "629 3.0\n",
      "630 3.0\n",
      "631 3.0\n",
      "632 3.0\n",
      "633 3.0\n",
      "634 3.0\n",
      "635 3.0\n",
      "636 3.0\n",
      "637 3.0\n",
      "638 3.0\n",
      "639 3.0\n",
      "640 3.0\n",
      "641 3.0\n",
      "642 3.0\n",
      "643 3.0\n",
      "644 3.0\n",
      "645 3.0\n",
      "646 3.0\n",
      "647 3.0\n",
      "648 3.0\n",
      "649 3.0\n",
      "650 3.0\n",
      "651 3.0\n",
      "652 3.0\n",
      "653 3.0\n",
      "654 3.0\n",
      "655 3.0\n",
      "656 3.0\n",
      "657 3.0\n",
      "658 3.0\n",
      "659 1.0\n",
      "660 2.0\n",
      "661 2.0\n",
      "662 2.0\n",
      "663 2.0\n",
      "664 2.0\n",
      "665 2.0\n",
      "666 2.0\n",
      "667 2.0\n",
      "668 2.0\n",
      "669 2.0\n",
      "670 2.0\n",
      "671 2.0\n",
      "672 2.0\n",
      "673 2.0\n",
      "674 2.0\n",
      "675 2.0\n",
      "676 2.0\n",
      "677 2.0\n",
      "678 2.0\n",
      "679 2.0\n",
      "680 2.0\n",
      "681 2.0\n",
      "682 2.0\n",
      "683 2.0\n",
      "684 2.0\n",
      "685 2.0\n",
      "686 2.0\n",
      "687 2.0\n"
     ]
    }
   ],
   "source": [
    "for i in range (len(dt1)):\n",
    "    print(i,k[i])"
   ]
  },
  {
   "cell_type": "code",
   "execution_count": 9,
   "metadata": {
    "scrolled": false
   },
   "outputs": [
    {
     "name": "stdout",
     "output_type": "stream",
     "text": [
      "cluster 0\n",
      "[286, 287, 288, 289, 290, 291, 292, 293, 294, 295, 296, 307, 315, 316, 317, 318, 319, 320, 321, 322, 323, 324, 325, 326, 327, 328, 329, 330, 331, 340, 349, 350, 351, 352, 353, 354, 355, 356, 357, 358, 359, 360, 361, 362, 363, 364, 365, 366, 367, 368, 369, 370, 371, 372, 373, 374, 375, 376, 377, 378, 379, 380, 381, 382, 383, 384, 385, 386, 387, 388, 389, 390, 391, 392, 393, 394, 395, 396, 397, 398, 399, 400, 401, 402, 403, 404, 405, 406, 407, 408, 409, 410, 411, 412, 413, 414, 415, 416, 417, 418, 419, 420, 421, 422, 423, 424, 425, 426, 427, 428, 429, 430, 431, 432, 433, 434, 435, 436, 437, 438, 439, 440, 441, 442, 443, 444, 445, 446, 447, 448, 449, 450, 451, 452, 453, 454, 455, 456, 457, 458, 459, 460, 461, 462, 463, 464, 465, 466, 467, 468, 469, 470, 471, 472, 473, 474, 475, 476, 477, 478, 479, 480, 481, 482, 483, 484, 485, 486, 487, 488, 489, 490, 491, 492, 493, 494, 495, 496, 497, 498, 499, 500, 501, 502, 503, 504, 505, 506, 507, 508, 510, 511, 512, 513, 514, 515]\n",
      "cluster 1\n",
      "[4, 15, 39, 40, 41, 42, 43, 44, 45, 46, 47, 48, 49, 50, 51, 52, 53, 54, 55, 56, 57, 58, 59, 60, 61, 62, 63, 64, 65, 66, 67, 68, 69, 70, 71, 72, 73, 74, 75, 76, 77, 78, 79, 80, 81, 82, 83, 84, 85, 86, 87, 88, 89, 90, 91, 92, 93, 94, 95, 96, 97, 98, 99, 100, 101, 102, 103, 104, 105, 106, 107, 108, 109, 110, 111, 112, 113, 114, 115, 116, 117, 118, 119, 120, 121, 122, 123, 124, 125, 126, 127, 128, 129, 130, 131, 132, 133, 134, 135, 136, 137, 138, 139, 140, 141, 142, 143, 144, 145, 146, 147, 148, 149, 150, 151, 152, 153, 154, 155, 156, 157, 158, 159, 160, 161, 162, 163, 164, 165, 166, 167, 168, 169, 170, 171, 172, 173, 174, 175, 176, 177, 178, 179, 180, 181, 182, 183, 184, 185, 659]\n",
      "cluster 2\n",
      "[277, 278, 279, 280, 281, 282, 283, 284, 285, 297, 298, 299, 300, 301, 302, 303, 304, 305, 306, 308, 309, 310, 311, 312, 313, 314, 332, 333, 334, 335, 336, 337, 338, 339, 341, 342, 343, 344, 345, 346, 347, 348, 517, 518, 519, 520, 521, 522, 523, 524, 525, 526, 527, 528, 529, 530, 531, 532, 533, 534, 535, 536, 537, 538, 539, 540, 541, 542, 543, 544, 545, 546, 660, 661, 662, 663, 664, 665, 666, 667, 668, 669, 670, 671, 672, 673, 674, 675, 676, 677, 678, 679, 680, 681, 682, 683, 684, 685, 686, 687]\n",
      "cluster 3\n",
      "[0, 1, 2, 3, 5, 6, 7, 8, 9, 10, 11, 12, 13, 14, 16, 17, 18, 19, 20, 21, 22, 23, 24, 25, 26, 27, 28, 29, 30, 31, 32, 33, 34, 35, 36, 37, 38, 549, 550, 551, 552, 553, 554, 555, 556, 557, 558, 559, 560, 561, 562, 563, 564, 565, 566, 567, 568, 569, 570, 571, 572, 573, 574, 575, 576, 577, 578, 579, 580, 581, 582, 583, 584, 585, 586, 587, 588, 589, 590, 591, 592, 593, 594, 595, 596, 597, 598, 599, 600, 601, 602, 603, 604, 605, 606, 607, 608, 609, 610, 611, 612, 613, 614, 615, 616, 617, 618, 619, 620, 621, 622, 623, 624, 625, 626, 627, 628, 629, 630, 631, 632, 633, 634, 635, 636, 637, 638, 639, 640, 641, 642, 643, 644, 645, 646, 647, 648, 649, 650, 651, 652, 653, 654, 655, 656, 657, 658]\n",
      "cluster 4\n",
      "[186, 187, 188, 189, 190, 191, 192, 193, 194, 195, 196, 197, 198, 199, 200, 201, 202, 203, 204, 205, 206, 207, 208, 209, 210, 211, 212, 213, 214, 215, 216, 217, 218, 219, 220, 221, 222, 223, 224, 225, 226, 227, 228, 229, 230, 231, 232, 233, 234, 235, 236, 237, 238, 239, 240, 241, 242, 243, 244, 245, 246, 247, 248, 249, 250, 251, 252, 253, 254, 255, 256, 257, 258, 259, 260, 261, 262, 263, 264, 265, 266, 267, 268, 269, 270, 271, 272, 273, 274, 275, 276, 509, 516, 547, 548]\n"
     ]
    }
   ],
   "source": [
    "cl0 = []\n",
    "cl1 = []\n",
    "cl2 = []\n",
    "cl3 = []\n",
    "cl4 = []\n",
    "for i in range (len(dt1)):\n",
    "    if k[i] == 0.0:\n",
    "        cl0.append(i)\n",
    "    elif k[i] == 1.0:\n",
    "        cl1.append(i)\n",
    "    elif k[i] == 2.0:\n",
    "        cl2.append(i)\n",
    "    elif k[i] == 3.0:\n",
    "        cl3.append(i)\n",
    "    elif k[i] == 4.0:\n",
    "        cl4.append(i)\n",
    "\n",
    "print(\"cluster 0\")\n",
    "print(cl0)\n",
    "print(\"cluster 1\")\n",
    "print(cl1)\n",
    "print(\"cluster 2\")\n",
    "print(cl2)\n",
    "print(\"cluster 3\")\n",
    "print(cl3)\n",
    "print(\"cluster 4\")\n",
    "print(cl4)\n",
    "\n"
   ]
  },
  {
   "cell_type": "markdown",
   "metadata": {},
   "source": [
    "### Menghitung Quality of Cluster dengan SSE"
   ]
  },
  {
   "cell_type": "markdown",
   "metadata": {},
   "source": [
    "Nilai Sum of Square Error(SSE) digunakan dalam pengukuran kualitas cluster, berikut adalah perhitungannya :\n",
    "a. lakukakn perhitungan sepanjang cluster dengan looping dengan aturan tiap data pada cluster yang sama\n",
    "b. setelah memperoleh nilai total jarak tersebut kemudia dijumlahkan tiap cluster dan nilai tersebut sebagai nilai SSE nya"
   ]
  },
  {
   "cell_type": "code",
   "execution_count": 10,
   "metadata": {},
   "outputs": [
    {
     "name": "stdout",
     "output_type": "stream",
     "text": [
      "1662.364784207581\n"
     ]
    }
   ],
   "source": [
    "total0 = 0\n",
    "total1 = 0\n",
    "total2 = 0\n",
    "total3 = 0\n",
    "total4 = 0\n",
    "for i in range (clust):\n",
    "    total0 = num.sum([hitdistance(dt1[j],pxy[i],a=0)for j in range (len(dt1)) if k[j]==i])\n",
    "    total1 = num.sum([hitdistance(dt1[j],pxy[i],a=0)for j in range (len(dt1)) if k[j]==i])\n",
    "    total2 = num.sum([hitdistance(dt1[j],pxy[i],a=0)for j in range (len(dt1)) if k[j]==i])\n",
    "    total3 = num.sum([hitdistance(dt1[j],pxy[i],a=0)for j in range (len(dt1)) if k[j]==i])\n",
    "    total4 = num.sum([hitdistance(dt1[j],pxy[i],a=0)for j in range (len(dt1)) if k[j]==i])\n",
    "SSE = total0+total1+total2+total3+total4\n",
    "print(SSE)"
   ]
  },
  {
   "cell_type": "code",
   "execution_count": 11,
   "metadata": {
    "scrolled": true
   },
   "outputs": [
    {
     "data": {
      "text/plain": [
       "<matplotlib.collections.PathCollection at 0xb7e8350>"
      ]
     },
     "execution_count": 11,
     "metadata": {},
     "output_type": "execute_result"
    },
    {
     "data": {
      "image/png": "[encoded data removed]",
      "text/plain": [
       "<matplotlib.figure.Figure at 0xb7a4af0>"
      ]
     },
     "metadata": {},
     "output_type": "display_data"
    }
   ],
   "source": [
    "colors = [\"purple\",\"red\",\"black\",\"blue\",\"green\",\"yellow\",\"grey\",\"orange\", \"brown\",\"cyan\",\"magenta\"]\n",
    "fig, ax = plt.subplots()\n",
    "for i in range(clust):\n",
    "    points = num.array([dt1[j] for j in range(len(dt1)) if k[j] == i])\n",
    "    ax.scatter(points[:, 0], points[:, 1], s=7, c=colors[i])\n",
    "ax.scatter(pxy[:, 0], pxy[:, 1], marker='*', s=200, c='purple')"
   ]
  },
  {
   "attachments": {},
   "cell_type": "markdown",
   "metadata": {},
   "source": [
    "Kesimpulan 1: \n",
    "<br>\n",
    "setelah melakukan pengamatan dari hasil percobaan tersebut didimpulkan bahwa percobaan ini menghasilkan nilai Elbow ketika berada pada nilai cluster 5 dengan SSE sebesar 2464.984116 dengan menggunakan Elbow Method(untuk hasil pengamatan terlampir pada file excel)."
   ]
  },
  {
   "cell_type": "markdown",
   "metadata": {},
   "source": [
    "### PENGUJIAN DATA TEST "
   ]
  },
  {
   "cell_type": "markdown",
   "metadata": {},
   "source": [
    "Berdasarkan data test yang dihasilkan pada pengamatan data train yaitu pada cluster 5, maka akan diperoleh tipe cluster data dan nilai SSE pada test tersebut."
   ]
  },
  {
   "cell_type": "markdown",
   "metadata": {},
   "source": [
    "### Load Data Test"
   ]
  },
  {
   "cell_type": "code",
   "execution_count": 12,
   "metadata": {},
   "outputs": [
    {
     "name": "stdout",
     "output_type": "stream",
     "text": [
      "       n1     n2\n",
      "0   18.75  22.95\n",
      "1   21.45  21.45\n",
      "2   20.50  22.85\n",
      "3   20.65  24.30\n",
      "4   21.70  23.80\n",
      "5   23.10  21.70\n",
      "6   13.35  28.45\n",
      "7   12.40  27.85\n",
      "8   12.20  28.65\n",
      "9   12.90  26.50\n",
      "10  11.15  28.70\n",
      "11  10.50  28.35\n",
      "12  10.25  27.25\n",
      "13  12.60  24.05\n",
      "14  10.05  25.95\n",
      "15   8.50  27.05\n",
      "16   7.55  26.30\n",
      "17   9.40  25.55\n",
      "18  10.55  24.35\n",
      "19   5.40  25.25\n",
      "20   4.30  24.00\n",
      "21   6.10  22.60\n",
      "22   6.40  21.95\n",
      "23   8.45  17.20\n",
      "24  12.30  22.75\n",
      "25   9.95  19.80\n",
      "26  12.00  20.00\n",
      "27  11.40  19.25\n",
      "28  15.20  18.20\n",
      "29  31.90   4.40\n",
      "..    ...    ...\n",
      "70  21.75   8.20\n",
      "71  23.00   7.35\n",
      "72  23.70   8.85\n",
      "73   5.15   3.45\n",
      "74   4.95   4.05\n",
      "75   7.10   4.30\n",
      "76   8.50   3.25\n",
      "77  32.45  16.75\n",
      "78  30.55  18.80\n",
      "79  31.55  19.65\n",
      "80  33.70  17.00\n",
      "81  31.75  20.25\n",
      "82  31.55  22.20\n",
      "83  30.95  24.15\n",
      "84  33.65  21.90\n",
      "85  33.80  20.40\n",
      "86  36.35  20.60\n",
      "87  34.60  22.05\n",
      "88  34.90  23.50\n",
      "89  33.60  23.90\n",
      "90  33.70  24.85\n",
      "91  30.25  24.30\n",
      "92  31.25  27.85\n",
      "93  33.85  26.05\n",
      "94  34.65  26.85\n",
      "95   9.70  12.10\n",
      "96   5.70  12.25\n",
      "97   7.85  11.85\n",
      "98   7.65  11.10\n",
      "99   8.30  10.55\n",
      "\n",
      "[100 rows x 2 columns]\n"
     ]
    }
   ],
   "source": [
    "dtest = pd.read_csv(\"TestsetTugas2.txt\",delimiter=\"\\t\")\n",
    "print(dtest)"
   ]
  },
  {
   "cell_type": "code",
   "execution_count": 13,
   "metadata": {},
   "outputs": [],
   "source": [
    "c = dtest[\"n1\"].values\n",
    "d = dtest[\"n2\"].values"
   ]
  },
  {
   "cell_type": "markdown",
   "metadata": {},
   "source": [
    "### Visualisasi Data Test"
   ]
  },
  {
   "cell_type": "code",
   "execution_count": 14,
   "metadata": {},
   "outputs": [
    {
     "data": {
      "text/plain": [
       "<matplotlib.collections.PathCollection at 0xb7e8650>"
      ]
     },
     "execution_count": 14,
     "metadata": {},
     "output_type": "execute_result"
    },
    {
     "data": {
      "image/png": "[encoded data removed]",
      "text/plain": [
       "<matplotlib.figure.Figure at 0xb7a4ab0>"
      ]
     },
     "metadata": {},
     "output_type": "display_data"
    }
   ],
   "source": [
    "dt2 = num.array(list(zip(c,d)))\n",
    "plt.scatter(c,d, c=\"purple\",s=6)"
   ]
  },
  {
   "cell_type": "markdown",
   "metadata": {},
   "source": [
    "### Clustering Data Test"
   ]
  },
  {
   "cell_type": "code",
   "execution_count": 15,
   "metadata": {},
   "outputs": [
    {
     "name": "stdout",
     "output_type": "stream",
     "text": [
      "[[12  4]\n",
      " [27  7]\n",
      " [ 9 22]\n",
      " [29 22]\n",
      " [13 10]]\n"
     ]
    }
   ],
   "source": [
    "clust = 5\n",
    "\n",
    "px = num.array([12,27,9,29,13])\n",
    "py = num.array([4,7,22,22,10])\n",
    "pxy = num.array(list(zip(px,py)))\n",
    "print(pxy)"
   ]
  },
  {
   "cell_type": "code",
   "execution_count": 16,
   "metadata": {},
   "outputs": [],
   "source": [
    "for i in range (len(dt2)):\n",
    "        dnew = hitdistance(dt2[i],pxy)\n",
    "        win = num.argmin(dnew)\n",
    "        k[i]= win"
   ]
  },
  {
   "cell_type": "code",
   "execution_count": 17,
   "metadata": {},
   "outputs": [
    {
     "name": "stdout",
     "output_type": "stream",
     "text": [
      "0 2.0\n",
      "1 3.0\n",
      "2 3.0\n",
      "3 3.0\n",
      "4 3.0\n",
      "5 3.0\n",
      "6 2.0\n",
      "7 2.0\n",
      "8 2.0\n",
      "9 2.0\n",
      "10 2.0\n",
      "11 2.0\n",
      "12 2.0\n",
      "13 2.0\n",
      "14 2.0\n",
      "15 2.0\n",
      "16 2.0\n",
      "17 2.0\n",
      "18 2.0\n",
      "19 2.0\n",
      "20 2.0\n",
      "21 2.0\n",
      "22 2.0\n",
      "23 2.0\n",
      "24 2.0\n",
      "25 2.0\n",
      "26 2.0\n",
      "27 2.0\n",
      "28 2.0\n",
      "29 1.0\n",
      "30 1.0\n",
      "31 1.0\n",
      "32 1.0\n",
      "33 1.0\n",
      "34 1.0\n",
      "35 1.0\n",
      "36 1.0\n",
      "37 1.0\n",
      "38 1.0\n",
      "39 1.0\n",
      "40 4.0\n",
      "41 4.0\n",
      "42 4.0\n",
      "43 4.0\n",
      "44 4.0\n",
      "45 4.0\n",
      "46 4.0\n",
      "47 4.0\n",
      "48 0.0\n",
      "49 0.0\n",
      "50 0.0\n",
      "51 4.0\n",
      "52 0.0\n",
      "53 0.0\n",
      "54 0.0\n",
      "55 0.0\n",
      "56 1.0\n",
      "57 0.0\n",
      "58 4.0\n",
      "59 1.0\n",
      "60 1.0\n",
      "61 4.0\n",
      "62 4.0\n",
      "63 1.0\n",
      "64 1.0\n",
      "65 1.0\n",
      "66 4.0\n",
      "67 4.0\n",
      "68 1.0\n",
      "69 1.0\n",
      "70 1.0\n",
      "71 1.0\n",
      "72 1.0\n",
      "73 0.0\n",
      "74 0.0\n",
      "75 0.0\n",
      "76 0.0\n",
      "77 3.0\n",
      "78 3.0\n",
      "79 3.0\n",
      "80 3.0\n",
      "81 3.0\n",
      "82 3.0\n",
      "83 3.0\n",
      "84 3.0\n",
      "85 3.0\n",
      "86 3.0\n",
      "87 3.0\n",
      "88 3.0\n",
      "89 3.0\n",
      "90 3.0\n",
      "91 3.0\n",
      "92 3.0\n",
      "93 3.0\n",
      "94 3.0\n",
      "95 4.0\n",
      "96 4.0\n",
      "97 4.0\n",
      "98 4.0\n",
      "99 4.0\n"
     ]
    }
   ],
   "source": [
    "for i in range (len(dt2)):\n",
    "    print(i,k[i])"
   ]
  },
  {
   "cell_type": "code",
   "execution_count": 18,
   "metadata": {},
   "outputs": [
    {
     "name": "stdout",
     "output_type": "stream",
     "text": [
      "cluster 0\n",
      "[48, 49, 50, 52, 53, 54, 55, 57, 73, 74, 75, 76]\n",
      "cluster 1\n",
      "[29, 30, 31, 32, 33, 34, 35, 36, 37, 38, 39, 56, 59, 60, 63, 64, 65, 68, 69, 70, 71, 72]\n",
      "cluster 2\n",
      "[0, 6, 7, 8, 9, 10, 11, 12, 13, 14, 15, 16, 17, 18, 19, 20, 21, 22, 23, 24, 25, 26, 27, 28]\n",
      "cluster 3\n",
      "[1, 2, 3, 4, 5, 77, 78, 79, 80, 81, 82, 83, 84, 85, 86, 87, 88, 89, 90, 91, 92, 93, 94]\n",
      "cluster 4\n",
      "[40, 41, 42, 43, 44, 45, 46, 47, 51, 58, 61, 62, 66, 67, 95, 96, 97, 98, 99]\n"
     ]
    }
   ],
   "source": [
    "cl0 = []\n",
    "cl1 = []\n",
    "cl2 = []\n",
    "cl3 = []\n",
    "cl4 = []\n",
    "for i in range (len(dt2)):\n",
    "    if k[i] == 0.0:\n",
    "        cl0.append(i)\n",
    "    elif k[i] == 1.0:\n",
    "        cl1.append(i)\n",
    "    elif k[i] == 2.0:\n",
    "        cl2.append(i)  \n",
    "    elif k[i] == 3.0:\n",
    "        cl3.append(i)\n",
    "    elif k[i] == 4.0:\n",
    "        cl4.append(i)\n",
    "\n",
    "print(\"cluster 0\")\n",
    "print(cl0)\n",
    "print(\"cluster 1\")\n",
    "print(cl1)\n",
    "print(\"cluster 2\")\n",
    "print(cl2)\n",
    "print(\"cluster 3\")\n",
    "print(cl3)\n",
    "print(\"cluster 4\")\n",
    "print(cl4)\n"
   ]
  },
  {
   "cell_type": "markdown",
   "metadata": {},
   "source": [
    "### Menghitung Quality of Cluster dengan SSE"
   ]
  },
  {
   "cell_type": "code",
   "execution_count": 19,
   "metadata": {},
   "outputs": [
    {
     "name": "stdout",
     "output_type": "stream",
     "text": [
      "377.7429780020818\n"
     ]
    }
   ],
   "source": [
    "total0 = 0\n",
    "total1 = 0\n",
    "total2 = 0\n",
    "total3 = 0\n",
    "total4 = 0\n",
    "for i in range (clust):\n",
    "    total0 = num.sum([hitdistance(dt2[j],pxy[i],a=0)for j in range (len(dt2)) if k[j]==i])\n",
    "    total1 = num.sum([hitdistance(dt2[j],pxy[i],a=0)for j in range (len(dt2)) if k[j]==i])\n",
    "    total2 = num.sum([hitdistance(dt2[j],pxy[i],a=0)for j in range (len(dt2)) if k[j]==i])\n",
    "    total3 = num.sum([hitdistance(dt2[j],pxy[i],a=0)for j in range (len(dt2)) if k[j]==i])\n",
    "    total4 = num.sum([hitdistance(dt2[j],pxy[i],a=0)for j in range (len(dt2)) if k[j]==i])\n",
    "   \n",
    "SSE = total0+total1+total2+total3+total4\n",
    "print(SSE)"
   ]
  },
  {
   "cell_type": "markdown",
   "metadata": {},
   "source": [
    "### Visualisasi Clustering"
   ]
  },
  {
   "cell_type": "code",
   "execution_count": 20,
   "metadata": {},
   "outputs": [
    {
     "data": {
      "text/plain": [
       "<matplotlib.collections.PathCollection at 0xb8880f0>"
      ]
     },
     "execution_count": 20,
     "metadata": {},
     "output_type": "execute_result"
    },
    {
     "data": {
      "image/png": "[encoded data removed]",
      "text/plain": [
       "<matplotlib.figure.Figure at 0xb842f10>"
      ]
     },
     "metadata": {},
     "output_type": "display_data"
    }
   ],
   "source": [
    "colors = [\"purple\",\"red\",\"black\",\"blue\",\"green\",\"yellow\",\"grey\",\"orange\", \"brown\"]\n",
    "fig, ax = plt.subplots()\n",
    "for i in range(clust):\n",
    "    points = num.array([dt2[j] for j in range(len(dt2)) if k[j] == i])\n",
    "    ax.scatter(points[:, 0], points[:, 1], s=7, c=colors[i])\n",
    "ax.scatter(pxy[:, 0], pxy[:, 1], marker='*', s=200, c='purple')"
   ]
  },
  {
   "cell_type": "markdown",
   "metadata": {},
   "source": [
    "Kesimpulan 2 : Dengan melakukan pengujian dari data test pada nilai cluster 5 didapatkan nilai centroidnya 377.7429780020818"
   ]
  },
  {
   "cell_type": "markdown",
   "metadata": {},
   "source": [
    "### Kesimpulan"
   ]
  },
  {
   "cell_type": "markdown",
   "metadata": {},
   "source": [
    "Dapat disimpulkan bahwa hasil observasi data train yang digunakan pada data test, membuat kualitas dari nilai cluster dengan centroid tersebut baik dengan nilai SSE yang terbilang kecil."
   ]
  }
 ],
 "metadata": {
  "kernelspec": {
   "display_name": "Python 3",
   "language": "python",
   "name": "python3"
  },
  "language_info": {
   "codemirror_mode": {
    "name": "ipython",
    "version": 3
   },
   "file_extension": ".py",
   "mimetype": "text/x-python",
   "name": "python",
   "nbconvert_exporter": "python",
   "pygments_lexer": "ipython3",
   "version": "3.6.4"
  }
 },
 "nbformat": 4,
 "nbformat_minor": 2
}
